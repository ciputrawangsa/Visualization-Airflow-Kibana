{
 "cells": [
  {
   "cell_type": "markdown",
   "metadata": {},
   "source": [
    "# Perkenalan"
   ]
  },
  {
   "cell_type": "markdown",
   "metadata": {},
   "source": [
    "===================================================================================================\n",
    "\n",
    "Milestone 3\n",
    "\n",
    "Nama  : Ciputra Wangsa\n",
    "\n",
    "Batch : HCK - 020\n",
    "\n",
    "Program ini dibuat untuk melakukan validasi ekspektasi terhadap poin-poin yang diharapkan pada data. Library yang digunakan adalah great expectation.\n",
    "\n",
    "==================================================================================================="
   ]
  },
  {
   "cell_type": "markdown",
   "metadata": {},
   "source": [
    "# Import Library"
   ]
  },
  {
   "cell_type": "code",
   "execution_count": 4,
   "metadata": {},
   "outputs": [],
   "source": [
    "# import library\n",
    "from great_expectations.data_context import FileDataContext"
   ]
  },
  {
   "cell_type": "markdown",
   "metadata": {},
   "source": [
    "# Membuat Expectation Suite & Validator"
   ]
  },
  {
   "cell_type": "code",
   "execution_count": 5,
   "metadata": {},
   "outputs": [],
   "source": [
    "# membuat instance filedatacontext ke direktori saat ini\n",
    "context = FileDataContext.create(project_root_dir='./')\n",
    "\n",
    "# membuat nama untuk datasource\n",
    "datasource_name = 'csv_report'\n",
    "datasource = context.sources.add_pandas(datasource_name)\n",
    "\n",
    "# membuat nama untuk data asset\n",
    "asset_name = 'report_cleaned'\n",
    "\n",
    "# menentukan file path csv yang akan digunakan\n",
    "path_to_data = '/Users/ciputrawangsa/Documents/Hacktiv8 - Materi/Phase 2/Milestone 3/p2-ftds020-hck-m3-ciputrawangsa/dags/P2M3_ciputra_wangsa_data_clean.csv'\n",
    "\n",
    "# menambahkan csv ke data asset\n",
    "asset = datasource.add_csv_asset(asset_name, filepath_or_buffer=path_to_data)\n",
    "\n",
    "# melakukan request untuk membuat batch dalam memproses data asset\n",
    "batch_request = asset.build_batch_request()"
   ]
  },
  {
   "cell_type": "code",
   "execution_count": 6,
   "metadata": {},
   "outputs": [
    {
     "data": {
      "application/vnd.jupyter.widget-view+json": {
       "model_id": "71c81895815b48ca87109d8f3287fd5f",
       "version_major": 2,
       "version_minor": 0
      },
      "text/plain": [
       "Calculating Metrics:   0%|          | 0/1 [00:00<?, ?it/s]"
      ]
     },
     "metadata": {},
     "output_type": "display_data"
    },
    {
     "data": {
      "text/html": [
       "<div>\n",
       "<style scoped>\n",
       "    .dataframe tbody tr th:only-of-type {\n",
       "        vertical-align: middle;\n",
       "    }\n",
       "\n",
       "    .dataframe tbody tr th {\n",
       "        vertical-align: top;\n",
       "    }\n",
       "\n",
       "    .dataframe thead th {\n",
       "        text-align: right;\n",
       "    }\n",
       "</style>\n",
       "<table border=\"1\" class=\"dataframe\">\n",
       "  <thead>\n",
       "    <tr style=\"text-align: right;\">\n",
       "      <th></th>\n",
       "      <th>transaction_id</th>\n",
       "      <th>customer_id</th>\n",
       "      <th>name</th>\n",
       "      <th>email</th>\n",
       "      <th>phone</th>\n",
       "      <th>address</th>\n",
       "      <th>city</th>\n",
       "      <th>state</th>\n",
       "      <th>zipcode</th>\n",
       "      <th>country</th>\n",
       "      <th>...</th>\n",
       "      <th>product_category</th>\n",
       "      <th>product_brand</th>\n",
       "      <th>product_type</th>\n",
       "      <th>feedback</th>\n",
       "      <th>shipping_method</th>\n",
       "      <th>payment_method</th>\n",
       "      <th>order_status</th>\n",
       "      <th>ratings</th>\n",
       "      <th>products</th>\n",
       "      <th>unique_id</th>\n",
       "    </tr>\n",
       "  </thead>\n",
       "  <tbody>\n",
       "    <tr>\n",
       "      <th>0</th>\n",
       "      <td>8691788</td>\n",
       "      <td>37249</td>\n",
       "      <td>Michelle Harrington</td>\n",
       "      <td>Ebony39@gmail.com</td>\n",
       "      <td>1.414787e+09</td>\n",
       "      <td>3959 Amanda Burgs</td>\n",
       "      <td>Dortmund</td>\n",
       "      <td>Berlin</td>\n",
       "      <td>77985.0</td>\n",
       "      <td>Germany</td>\n",
       "      <td>...</td>\n",
       "      <td>Clothing</td>\n",
       "      <td>Nike</td>\n",
       "      <td>Shorts</td>\n",
       "      <td>Excellent</td>\n",
       "      <td>Same-Day</td>\n",
       "      <td>Debit Card</td>\n",
       "      <td>Shipped</td>\n",
       "      <td>5</td>\n",
       "      <td>Cycling shorts</td>\n",
       "      <td>MIC37249M0GE</td>\n",
       "    </tr>\n",
       "    <tr>\n",
       "      <th>1</th>\n",
       "      <td>2174773</td>\n",
       "      <td>69749</td>\n",
       "      <td>Kelsey Hill</td>\n",
       "      <td>Mark36@gmail.com</td>\n",
       "      <td>6.852900e+09</td>\n",
       "      <td>82072 Dawn Centers</td>\n",
       "      <td>Nottingham</td>\n",
       "      <td>England</td>\n",
       "      <td>99071.0</td>\n",
       "      <td>UK</td>\n",
       "      <td>...</td>\n",
       "      <td>Electronics</td>\n",
       "      <td>Samsung</td>\n",
       "      <td>Tablet</td>\n",
       "      <td>Excellent</td>\n",
       "      <td>Standard</td>\n",
       "      <td>Credit Card</td>\n",
       "      <td>Processing</td>\n",
       "      <td>4</td>\n",
       "      <td>Lenovo Tab</td>\n",
       "      <td>KEL69749F0UK</td>\n",
       "    </tr>\n",
       "    <tr>\n",
       "      <th>2</th>\n",
       "      <td>6679610</td>\n",
       "      <td>30192</td>\n",
       "      <td>Scott Jensen</td>\n",
       "      <td>Shane85@gmail.com</td>\n",
       "      <td>8.362160e+09</td>\n",
       "      <td>4133 Young Canyon</td>\n",
       "      <td>Geelong</td>\n",
       "      <td>New South Wales</td>\n",
       "      <td>75929.0</td>\n",
       "      <td>Australia</td>\n",
       "      <td>...</td>\n",
       "      <td>Books</td>\n",
       "      <td>Penguin Books</td>\n",
       "      <td>Children's</td>\n",
       "      <td>Average</td>\n",
       "      <td>Same-Day</td>\n",
       "      <td>Credit Card</td>\n",
       "      <td>Processing</td>\n",
       "      <td>2</td>\n",
       "      <td>Sports equipment</td>\n",
       "      <td>SCO30192M0AU</td>\n",
       "    </tr>\n",
       "    <tr>\n",
       "      <th>3</th>\n",
       "      <td>7232460</td>\n",
       "      <td>62101</td>\n",
       "      <td>Joseph Miller</td>\n",
       "      <td>Mary34@gmail.com</td>\n",
       "      <td>2.776752e+09</td>\n",
       "      <td>8148 Thomas Creek Suite 100</td>\n",
       "      <td>Edmonton</td>\n",
       "      <td>Ontario</td>\n",
       "      <td>88420.0</td>\n",
       "      <td>Canada</td>\n",
       "      <td>...</td>\n",
       "      <td>Home Decor</td>\n",
       "      <td>Home Depot</td>\n",
       "      <td>Tools</td>\n",
       "      <td>Excellent</td>\n",
       "      <td>Standard</td>\n",
       "      <td>PayPal</td>\n",
       "      <td>Processing</td>\n",
       "      <td>4</td>\n",
       "      <td>Utility knife</td>\n",
       "      <td>JOS62101M0CA</td>\n",
       "    </tr>\n",
       "    <tr>\n",
       "      <th>4</th>\n",
       "      <td>4983775</td>\n",
       "      <td>27901</td>\n",
       "      <td>Debra Coleman</td>\n",
       "      <td>Charles30@gmail.com</td>\n",
       "      <td>9.098268e+09</td>\n",
       "      <td>5813 Lori Ports Suite 269</td>\n",
       "      <td>Bristol</td>\n",
       "      <td>England</td>\n",
       "      <td>48704.0</td>\n",
       "      <td>UK</td>\n",
       "      <td>...</td>\n",
       "      <td>Grocery</td>\n",
       "      <td>Nestle</td>\n",
       "      <td>Chocolate</td>\n",
       "      <td>Bad</td>\n",
       "      <td>Standard</td>\n",
       "      <td>Cash</td>\n",
       "      <td>Shipped</td>\n",
       "      <td>1</td>\n",
       "      <td>Chocolate cookies</td>\n",
       "      <td>DEB27901M0UK</td>\n",
       "    </tr>\n",
       "  </tbody>\n",
       "</table>\n",
       "<p>5 rows × 31 columns</p>\n",
       "</div>"
      ],
      "text/plain": [
       "   transaction_id  customer_id                 name                email  \\\n",
       "0         8691788        37249  Michelle Harrington    Ebony39@gmail.com   \n",
       "1         2174773        69749          Kelsey Hill     Mark36@gmail.com   \n",
       "2         6679610        30192         Scott Jensen    Shane85@gmail.com   \n",
       "3         7232460        62101        Joseph Miller     Mary34@gmail.com   \n",
       "4         4983775        27901        Debra Coleman  Charles30@gmail.com   \n",
       "\n",
       "          phone                      address        city            state  \\\n",
       "0  1.414787e+09            3959 Amanda Burgs    Dortmund           Berlin   \n",
       "1  6.852900e+09           82072 Dawn Centers  Nottingham          England   \n",
       "2  8.362160e+09            4133 Young Canyon     Geelong  New South Wales   \n",
       "3  2.776752e+09  8148 Thomas Creek Suite 100    Edmonton          Ontario   \n",
       "4  9.098268e+09    5813 Lori Ports Suite 269     Bristol          England   \n",
       "\n",
       "   zipcode    country  ...  product_category  product_brand product_type  \\\n",
       "0  77985.0    Germany  ...          Clothing           Nike       Shorts   \n",
       "1  99071.0         UK  ...       Electronics        Samsung       Tablet   \n",
       "2  75929.0  Australia  ...             Books  Penguin Books   Children's   \n",
       "3  88420.0     Canada  ...        Home Decor     Home Depot        Tools   \n",
       "4  48704.0         UK  ...           Grocery         Nestle    Chocolate   \n",
       "\n",
       "    feedback shipping_method  payment_method order_status ratings  \\\n",
       "0  Excellent        Same-Day      Debit Card      Shipped       5   \n",
       "1  Excellent        Standard     Credit Card   Processing       4   \n",
       "2    Average        Same-Day     Credit Card   Processing       2   \n",
       "3  Excellent        Standard          PayPal   Processing       4   \n",
       "4        Bad        Standard            Cash      Shipped       1   \n",
       "\n",
       "            products     unique_id  \n",
       "0     Cycling shorts  MIC37249M0GE  \n",
       "1         Lenovo Tab  KEL69749F0UK  \n",
       "2   Sports equipment  SCO30192M0AU  \n",
       "3      Utility knife  JOS62101M0CA  \n",
       "4  Chocolate cookies  DEB27901M0UK  \n",
       "\n",
       "[5 rows x 31 columns]"
      ]
     },
     "execution_count": 6,
     "metadata": {},
     "output_type": "execute_result"
    }
   ],
   "source": [
    "# membuat suite ekspektasi untuk data yang sudah dibersihkan\n",
    "expectation_suite_name = 'expectation_report_data_cleaned'\n",
    "context.add_or_update_expectation_suite(expectation_suite_name)\n",
    "\n",
    "# membuat validator menggunakan suite ekspektasi yang telah dibuat\n",
    "validator = context.get_validator(\n",
    "    batch_request = batch_request,\n",
    "    expectation_suite_name = expectation_suite_name\n",
    ")\n",
    "\n",
    "# cek validator\n",
    "validator.head()"
   ]
  },
  {
   "cell_type": "markdown",
   "metadata": {},
   "source": [
    "## To be unique"
   ]
  },
  {
   "cell_type": "markdown",
   "metadata": {},
   "source": [
    "Validasi ekspektasi ini dilakukan untuk menjaga kualitas dan integritas data dengan memastikan bahwa setiap nilai dalam kolom unique_id adalah unik, sehingga menghindari duplikasi data yang dapat menyebabkan kesalahan dalam analisis dan pengambilan keputusan."
   ]
  },
  {
   "cell_type": "code",
   "execution_count": 7,
   "metadata": {},
   "outputs": [
    {
     "data": {
      "application/vnd.jupyter.widget-view+json": {
       "model_id": "81aabd967ded4a3c8cd0923fe943405c",
       "version_major": 2,
       "version_minor": 0
      },
      "text/plain": [
       "Calculating Metrics:   0%|          | 0/8 [00:00<?, ?it/s]"
      ]
     },
     "metadata": {},
     "output_type": "display_data"
    },
    {
     "data": {
      "text/plain": [
       "{\n",
       "  \"success\": true,\n",
       "  \"result\": {\n",
       "    \"element_count\": 293908,\n",
       "    \"unexpected_count\": 0,\n",
       "    \"unexpected_percent\": 0.0,\n",
       "    \"partial_unexpected_list\": [],\n",
       "    \"missing_count\": 0,\n",
       "    \"missing_percent\": 0.0,\n",
       "    \"unexpected_percent_total\": 0.0,\n",
       "    \"unexpected_percent_nonmissing\": 0.0\n",
       "  },\n",
       "  \"exception_info\": {\n",
       "    \"raised_exception\": false,\n",
       "    \"exception_traceback\": null,\n",
       "    \"exception_message\": null\n",
       "  },\n",
       "  \"meta\": {}\n",
       "}"
      ]
     },
     "execution_count": 7,
     "metadata": {},
     "output_type": "execute_result"
    }
   ],
   "source": [
    "# melakukan validasi ekspektasi bahwa nilai dalam kolom 'unique_id' harus unik\n",
    "validator.expect_column_values_to_be_unique('unique_id')"
   ]
  },
  {
   "cell_type": "markdown",
   "metadata": {},
   "source": [
    "## To be between min value dan max value"
   ]
  },
  {
   "cell_type": "markdown",
   "metadata": {},
   "source": [
    "Validasi ekspektasi ini dilakukan untuk menjaga kualitas dan integritas data dengan memastikan bahwa setiap nilai dalam kolom age berada di antara 18 dan 70, sehingga memastikan bahwa data yang dianalisis sesuai dengan rentang usia yang diharapkan dan menghindari nilai yang tidak valid yang dapat mempengaruhi analisis dan keputusan bisnis."
   ]
  },
  {
   "cell_type": "code",
   "execution_count": 8,
   "metadata": {},
   "outputs": [
    {
     "data": {
      "application/vnd.jupyter.widget-view+json": {
       "model_id": "53643e45aa79492cba6bea362c17fea4",
       "version_major": 2,
       "version_minor": 0
      },
      "text/plain": [
       "Calculating Metrics:   0%|          | 0/8 [00:00<?, ?it/s]"
      ]
     },
     "metadata": {},
     "output_type": "display_data"
    },
    {
     "data": {
      "text/plain": [
       "{\n",
       "  \"success\": true,\n",
       "  \"result\": {\n",
       "    \"element_count\": 293908,\n",
       "    \"unexpected_count\": 0,\n",
       "    \"unexpected_percent\": 0.0,\n",
       "    \"partial_unexpected_list\": [],\n",
       "    \"missing_count\": 0,\n",
       "    \"missing_percent\": 0.0,\n",
       "    \"unexpected_percent_total\": 0.0,\n",
       "    \"unexpected_percent_nonmissing\": 0.0\n",
       "  },\n",
       "  \"exception_info\": {\n",
       "    \"raised_exception\": false,\n",
       "    \"exception_traceback\": null,\n",
       "    \"exception_message\": null\n",
       "  },\n",
       "  \"meta\": {}\n",
       "}"
      ]
     },
     "execution_count": 8,
     "metadata": {},
     "output_type": "execute_result"
    }
   ],
   "source": [
    "# melakukan validasi ekspektasi bahwa nilai dalam kolom 'age' harus berada di antara 18 dan 70\n",
    "validator.expect_column_values_to_be_between('age', 18, 70)"
   ]
  },
  {
   "cell_type": "markdown",
   "metadata": {},
   "source": [
    "## To be in set"
   ]
  },
  {
   "cell_type": "markdown",
   "metadata": {},
   "source": [
    "Validasi ekspektasi ini dilakukan untuk memastikan bahwa nilai dalam kolom customer_segment harus termasuk dalam set yang ditentukan ['Regular', 'Premium', 'New'], sehingga membantu menjaga konsistensi data dan memastikan bahwa semua entitas pelanggan dikategorikan sesuai dengan segmen yang relevan dalam analisis dan strategi bisnis."
   ]
  },
  {
   "cell_type": "code",
   "execution_count": 9,
   "metadata": {},
   "outputs": [
    {
     "data": {
      "application/vnd.jupyter.widget-view+json": {
       "model_id": "c4dd0debe24c4dc697cd66d7160fe65f",
       "version_major": 2,
       "version_minor": 0
      },
      "text/plain": [
       "Calculating Metrics:   0%|          | 0/8 [00:00<?, ?it/s]"
      ]
     },
     "metadata": {},
     "output_type": "display_data"
    },
    {
     "data": {
      "text/plain": [
       "{\n",
       "  \"success\": true,\n",
       "  \"result\": {\n",
       "    \"element_count\": 293908,\n",
       "    \"unexpected_count\": 0,\n",
       "    \"unexpected_percent\": 0.0,\n",
       "    \"partial_unexpected_list\": [],\n",
       "    \"missing_count\": 0,\n",
       "    \"missing_percent\": 0.0,\n",
       "    \"unexpected_percent_total\": 0.0,\n",
       "    \"unexpected_percent_nonmissing\": 0.0\n",
       "  },\n",
       "  \"exception_info\": {\n",
       "    \"raised_exception\": false,\n",
       "    \"exception_traceback\": null,\n",
       "    \"exception_message\": null\n",
       "  },\n",
       "  \"meta\": {}\n",
       "}"
      ]
     },
     "execution_count": 9,
     "metadata": {},
     "output_type": "execute_result"
    }
   ],
   "source": [
    "# Melakukan validasi ekspektasi bahwa nilai dalam kolom 'customer_segment' harus termasuk dalam set yang ditentukan ['Regular', 'Premium', 'New']\n",
    "validator.expect_column_values_to_be_in_set('customer_segment', ['Regular', 'Premium', 'New'])"
   ]
  },
  {
   "cell_type": "markdown",
   "metadata": {},
   "source": [
    "## To be in type"
   ]
  },
  {
   "cell_type": "markdown",
   "metadata": {},
   "source": [
    "Validasi ekspektasi ini dilakukan untuk memastikan bahwa nilai dalam kolom feedback harus bertipe data string, sehingga menjamin konsistensi dan keakuratan data yang dikumpulkan, serta memungkinkan pemrosesan dan analisis yang tepat terhadap umpan balik pelanggan."
   ]
  },
  {
   "cell_type": "code",
   "execution_count": 10,
   "metadata": {},
   "outputs": [
    {
     "data": {
      "application/vnd.jupyter.widget-view+json": {
       "model_id": "7f485915736a4c12ae837b68b484ef36",
       "version_major": 2,
       "version_minor": 0
      },
      "text/plain": [
       "Calculating Metrics:   0%|          | 0/8 [00:00<?, ?it/s]"
      ]
     },
     "metadata": {},
     "output_type": "display_data"
    },
    {
     "data": {
      "text/plain": [
       "{\n",
       "  \"success\": true,\n",
       "  \"result\": {\n",
       "    \"element_count\": 293908,\n",
       "    \"unexpected_count\": 0,\n",
       "    \"unexpected_percent\": 0.0,\n",
       "    \"partial_unexpected_list\": [],\n",
       "    \"missing_count\": 0,\n",
       "    \"missing_percent\": 0.0,\n",
       "    \"unexpected_percent_total\": 0.0,\n",
       "    \"unexpected_percent_nonmissing\": 0.0\n",
       "  },\n",
       "  \"exception_info\": {\n",
       "    \"raised_exception\": false,\n",
       "    \"exception_traceback\": null,\n",
       "    \"exception_message\": null\n",
       "  },\n",
       "  \"meta\": {}\n",
       "}"
      ]
     },
     "execution_count": 10,
     "metadata": {},
     "output_type": "execute_result"
    }
   ],
   "source": [
    "# Melakukan validasi ekspektasi bahwa nilai dalam kolom 'feedback' harus bertipe data string\n",
    "validator.expect_column_values_to_be_of_type('feedback', 'str')"
   ]
  },
  {
   "cell_type": "markdown",
   "metadata": {},
   "source": [
    "## Column most common value to be in set"
   ]
  },
  {
   "cell_type": "markdown",
   "metadata": {},
   "source": [
    "Validasi ekspektasi ini dilakukan untuk memastikan bahwa nilai yang paling umum dalam kolom gender harus termasuk dalam set yang ditentukan ['Female', 'Male'], sehingga membantu memastikan bahwa data yang dikumpulkan sesuai dengan harapan dan karakteristik demografis yang relevan, serta mendukung analisis yang akurat dan representatif."
   ]
  },
  {
   "cell_type": "code",
   "execution_count": 18,
   "metadata": {},
   "outputs": [
    {
     "data": {
      "application/vnd.jupyter.widget-view+json": {
       "model_id": "3ba8d178a17742f4bad92d2ce4a11099",
       "version_major": 2,
       "version_minor": 0
      },
      "text/plain": [
       "Calculating Metrics:   0%|          | 0/4 [00:00<?, ?it/s]"
      ]
     },
     "metadata": {},
     "output_type": "display_data"
    },
    {
     "data": {
      "text/plain": [
       "{\n",
       "  \"success\": true,\n",
       "  \"result\": {\n",
       "    \"observed_value\": [\n",
       "      \"Male\"\n",
       "    ]\n",
       "  },\n",
       "  \"exception_info\": {\n",
       "    \"raised_exception\": false,\n",
       "    \"exception_traceback\": null,\n",
       "    \"exception_message\": null\n",
       "  },\n",
       "  \"meta\": {}\n",
       "}"
      ]
     },
     "execution_count": 18,
     "metadata": {},
     "output_type": "execute_result"
    }
   ],
   "source": [
    "# melakukan validasi ekspektasi bahwa nilai yang paling umum dalam kolom 'gender' harus termasuk dalam set yang ditentukan ['Female', 'Male']\n",
    "validator.expect_column_most_common_value_to_be_in_set('gender', ['Female', 'Male'])"
   ]
  },
  {
   "cell_type": "markdown",
   "metadata": {},
   "source": [
    "## Multicolom to be unique"
   ]
  },
  {
   "cell_type": "markdown",
   "metadata": {},
   "source": [
    "Validasi ekspektasi ini dilakukan untuk memastikan bahwa kombinasi nilai dalam kolom email dan unique_id harus unik, sehingga mencegah adanya duplikasi yang dapat mengganggu integritas data dan memastikan bahwa setiap entitas teridentifikasi dengan jelas dalam sistem, yang penting untuk pengelolaan data yang akurat dan efektif."
   ]
  },
  {
   "cell_type": "code",
   "execution_count": 12,
   "metadata": {},
   "outputs": [
    {
     "data": {
      "application/vnd.jupyter.widget-view+json": {
       "model_id": "21e2ab46c7a84199ae63baad9285ee24",
       "version_major": 2,
       "version_minor": 0
      },
      "text/plain": [
       "Calculating Metrics:   0%|          | 0/7 [00:00<?, ?it/s]"
      ]
     },
     "metadata": {},
     "output_type": "display_data"
    },
    {
     "data": {
      "text/plain": [
       "{\n",
       "  \"success\": true,\n",
       "  \"result\": {\n",
       "    \"element_count\": 293908,\n",
       "    \"unexpected_count\": 0,\n",
       "    \"unexpected_percent\": 0.0,\n",
       "    \"partial_unexpected_list\": [],\n",
       "    \"missing_count\": 0,\n",
       "    \"missing_percent\": 0.0,\n",
       "    \"unexpected_percent_total\": 0.0,\n",
       "    \"unexpected_percent_nonmissing\": 0.0\n",
       "  },\n",
       "  \"exception_info\": {\n",
       "    \"raised_exception\": false,\n",
       "    \"exception_traceback\": null,\n",
       "    \"exception_message\": null\n",
       "  },\n",
       "  \"meta\": {}\n",
       "}"
      ]
     },
     "execution_count": 12,
     "metadata": {},
     "output_type": "execute_result"
    }
   ],
   "source": [
    "# melakukan validasi ekspektasi bahwa kombinasi nilai dalam kolom 'email' dan 'unique_id' harus unik\n",
    "validator.expect_compound_columns_to_be_unique(['email', 'unique_id'])"
   ]
  },
  {
   "cell_type": "markdown",
   "metadata": {},
   "source": [
    "## Distinct values to contain set"
   ]
  },
  {
   "cell_type": "markdown",
   "metadata": {},
   "source": [
    "Validasi ekspektasi ini dilakukan untuk memastikan bahwa nilai-nilai yang berbeda dalam kolom order_status mencakup set yang ditentukan {\"Delivered\", \"Pending\", \"Processing\"}, sehingga membantu menjaga konsistensi dan akurasi status pesanan yang tercatat dalam data, serta memastikan bahwa semua kemungkinan status pesanan yang relevan tersedia untuk analisis dan laporan."
   ]
  },
  {
   "cell_type": "code",
   "execution_count": 13,
   "metadata": {},
   "outputs": [
    {
     "data": {
      "application/vnd.jupyter.widget-view+json": {
       "model_id": "1f0025c86d864ac99ab4f14147ed392a",
       "version_major": 2,
       "version_minor": 0
      },
      "text/plain": [
       "Calculating Metrics:   0%|          | 0/4 [00:00<?, ?it/s]"
      ]
     },
     "metadata": {},
     "output_type": "display_data"
    },
    {
     "data": {
      "text/plain": [
       "{\n",
       "  \"success\": true,\n",
       "  \"result\": {\n",
       "    \"observed_value\": [\n",
       "      \"Delivered\",\n",
       "      \"Pending\",\n",
       "      \"Processing\",\n",
       "      \"Shipped\"\n",
       "    ],\n",
       "    \"details\": {\n",
       "      \"value_counts\": [\n",
       "        {\n",
       "          \"value\": \"Delivered\",\n",
       "          \"count\": 127238\n",
       "        },\n",
       "        {\n",
       "          \"value\": \"Pending\",\n",
       "          \"count\": 47741\n",
       "        },\n",
       "        {\n",
       "          \"value\": \"Processing\",\n",
       "          \"count\": 55654\n",
       "        },\n",
       "        {\n",
       "          \"value\": \"Shipped\",\n",
       "          \"count\": 63275\n",
       "        }\n",
       "      ]\n",
       "    }\n",
       "  },\n",
       "  \"exception_info\": {\n",
       "    \"raised_exception\": false,\n",
       "    \"exception_traceback\": null,\n",
       "    \"exception_message\": null\n",
       "  },\n",
       "  \"meta\": {}\n",
       "}"
      ]
     },
     "execution_count": 13,
     "metadata": {},
     "output_type": "execute_result"
    }
   ],
   "source": [
    "# melakukan validasi ekspektasi bahwa nilai-nilai yang berbeda dalam kolom 'order_status' harus mencakup set yang ditentukan {\"Delivered\", \"Pending\", \"Processing\"}\n",
    "validator.expect_column_distinct_values_to_contain_set(\"order_status\", {\"Delivered\", \"Pending\", \"Processing\", \"Delivered\"})"
   ]
  },
  {
   "cell_type": "markdown",
   "metadata": {},
   "source": [
    "# Expectation Saving"
   ]
  },
  {
   "cell_type": "code",
   "execution_count": 16,
   "metadata": {},
   "outputs": [
    {
     "data": {
      "text/plain": [
       "{'local_site': 'file:///Users/ciputrawangsa/Documents/Hacktiv8 - Materi/Phase 2/Milestone 3/p2-ftds020-hck-m3-ciputrawangsa/gx/uncommitted/data_docs/local_site/index.html'}"
      ]
     },
     "execution_count": 16,
     "metadata": {},
     "output_type": "execute_result"
    }
   ],
   "source": [
    "# menyimpan suite ekspektasi\n",
    "validator.save_expectation_suite()\n",
    "\n",
    "# menambah checkpoint menggunakan validator yang telah didefinisikan\n",
    "checkpoint_1 = context.add_or_update_checkpoint(\n",
    "    name = 'checkpoint_1',\n",
    "    validator = validator,\n",
    ")\n",
    "\n",
    "# membuat dokumentasi data\n",
    "context.build_data_docs()"
   ]
  }
 ],
 "metadata": {
  "kernelspec": {
   "display_name": "phase2",
   "language": "python",
   "name": "python3"
  },
  "language_info": {
   "codemirror_mode": {
    "name": "ipython",
    "version": 3
   },
   "file_extension": ".py",
   "mimetype": "text/x-python",
   "name": "python",
   "nbconvert_exporter": "python",
   "pygments_lexer": "ipython3",
   "version": "3.9.20"
  }
 },
 "nbformat": 4,
 "nbformat_minor": 2
}
